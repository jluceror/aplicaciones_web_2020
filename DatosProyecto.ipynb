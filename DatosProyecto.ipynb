{
  "nbformat": 4,
  "nbformat_minor": 0,
  "metadata": {
    "colab": {
      "provenance": [],
      "mount_file_id": "11_Q9bz7FPeysTS9y7oMroktHMLp5M_6N",
      "authorship_tag": "ABX9TyMG7ALabVFr/y/GE/XpHUG9",
      "include_colab_link": true
    },
    "kernelspec": {
      "name": "python3",
      "display_name": "Python 3"
    },
    "language_info": {
      "name": "python"
    }
  },
  "cells": [
    {
      "cell_type": "markdown",
      "metadata": {
        "id": "view-in-github",
        "colab_type": "text"
      },
      "source": [
        "<a href=\"https://colab.research.google.com/github/jluceror/aplicaciones_web_2020/blob/master/DatosProyecto.ipynb\" target=\"_parent\"><img src=\"https://colab.research.google.com/assets/colab-badge.svg\" alt=\"Open In Colab\"/></a>"
      ]
    },
    {
      "cell_type": "code",
      "source": [
        "from google.colab import drive\n",
        "drive.mount('/content/drive')\n",
        "\n",
        "import pandas as pd\n",
        "\n",
        "# Load the dataset\n",
        "df = pd.read_csv('/content/drive/MyDrive/ColabNotebooks/DataUsuariosMejorada.csv')\n",
        "\n",
        "# Convertir la columna 'Fecha' en objetos de fecha y hora, forzando errores\n",
        "# Esto convertirá formatos de fecha no válidos como \"0000-00-00 00:00:00\" en NaT\n",
        "df['Fecha'] = pd.to_datetime(df['Fecha'], errors='coerce')\n",
        "\n",
        "# Extraiga el año de la columna 'Fecha', lo que dará como resultado NaN para los valores NaT\n",
        "df['Año'] = df['Fecha'].dt.year\n",
        "\n",
        "# Extraiga el año de la columna 'Fecha', lo que dará como resultado NaN para los valores NaT\n",
        "df = df.dropna(subset=['Año'])\n",
        "\n",
        "# Convertir la columna 'Año' a tipo entero\n",
        "df['Año'] = df['Año'].astype(int)\n",
        "\n",
        "# Agrupa por año y obtén un 'Usuarios_Id' único\n",
        "UsuariosUnicosPorAnio = df.groupby('Año')['Usuarios_Id'].nunique()\n",
        "\n",
        "# Mostrar el número de usuarios únicos por año\n",
        "UsuariosUnicosPorAnio\n"
      ],
      "metadata": {
        "colab": {
          "base_uri": "https://localhost:8080/",
          "height": 623
        },
        "id": "e7KLsum2ig5b",
        "outputId": "de7c7f79-c31c-431a-aca9-26f753d3caa8"
      },
      "execution_count": 9,
      "outputs": [
        {
          "output_type": "stream",
          "name": "stdout",
          "text": [
            "Drive already mounted at /content/drive; to attempt to forcibly remount, call drive.mount(\"/content/drive\", force_remount=True).\n"
          ]
        },
        {
          "output_type": "execute_result",
          "data": {
            "text/plain": [
              "Año\n",
              "2011     699\n",
              "2012     928\n",
              "2013    1513\n",
              "2014    2612\n",
              "2015    2513\n",
              "2016    3039\n",
              "2017    4645\n",
              "2018    3966\n",
              "2019    4716\n",
              "2020    8611\n",
              "2021    7158\n",
              "2022    6080\n",
              "2023    7137\n",
              "2024    7197\n",
              "2025    3973\n",
              "Name: Usuarios_Id, dtype: int64"
            ],
            "text/html": [
              "<div>\n",
              "<style scoped>\n",
              "    .dataframe tbody tr th:only-of-type {\n",
              "        vertical-align: middle;\n",
              "    }\n",
              "\n",
              "    .dataframe tbody tr th {\n",
              "        vertical-align: top;\n",
              "    }\n",
              "\n",
              "    .dataframe thead th {\n",
              "        text-align: right;\n",
              "    }\n",
              "</style>\n",
              "<table border=\"1\" class=\"dataframe\">\n",
              "  <thead>\n",
              "    <tr style=\"text-align: right;\">\n",
              "      <th></th>\n",
              "      <th>Usuarios_Id</th>\n",
              "    </tr>\n",
              "    <tr>\n",
              "      <th>Año</th>\n",
              "      <th></th>\n",
              "    </tr>\n",
              "  </thead>\n",
              "  <tbody>\n",
              "    <tr>\n",
              "      <th>2011</th>\n",
              "      <td>699</td>\n",
              "    </tr>\n",
              "    <tr>\n",
              "      <th>2012</th>\n",
              "      <td>928</td>\n",
              "    </tr>\n",
              "    <tr>\n",
              "      <th>2013</th>\n",
              "      <td>1513</td>\n",
              "    </tr>\n",
              "    <tr>\n",
              "      <th>2014</th>\n",
              "      <td>2612</td>\n",
              "    </tr>\n",
              "    <tr>\n",
              "      <th>2015</th>\n",
              "      <td>2513</td>\n",
              "    </tr>\n",
              "    <tr>\n",
              "      <th>2016</th>\n",
              "      <td>3039</td>\n",
              "    </tr>\n",
              "    <tr>\n",
              "      <th>2017</th>\n",
              "      <td>4645</td>\n",
              "    </tr>\n",
              "    <tr>\n",
              "      <th>2018</th>\n",
              "      <td>3966</td>\n",
              "    </tr>\n",
              "    <tr>\n",
              "      <th>2019</th>\n",
              "      <td>4716</td>\n",
              "    </tr>\n",
              "    <tr>\n",
              "      <th>2020</th>\n",
              "      <td>8611</td>\n",
              "    </tr>\n",
              "    <tr>\n",
              "      <th>2021</th>\n",
              "      <td>7158</td>\n",
              "    </tr>\n",
              "    <tr>\n",
              "      <th>2022</th>\n",
              "      <td>6080</td>\n",
              "    </tr>\n",
              "    <tr>\n",
              "      <th>2023</th>\n",
              "      <td>7137</td>\n",
              "    </tr>\n",
              "    <tr>\n",
              "      <th>2024</th>\n",
              "      <td>7197</td>\n",
              "    </tr>\n",
              "    <tr>\n",
              "      <th>2025</th>\n",
              "      <td>3973</td>\n",
              "    </tr>\n",
              "  </tbody>\n",
              "</table>\n",
              "</div><br><label><b>dtype:</b> int64</label>"
            ]
          },
          "metadata": {},
          "execution_count": 9
        }
      ]
    },
    {
      "cell_type": "code",
      "source": [
        "# Ver el DataFrame\n",
        "print(df)"
      ],
      "metadata": {
        "colab": {
          "base_uri": "https://localhost:8080/"
        },
        "id": "_RXtaYC4NdjF",
        "outputId": "573bda64-f5ea-42e6-ad03-594d8fca9be2"
      },
      "execution_count": 11,
      "outputs": [
        {
          "output_type": "stream",
          "name": "stdout",
          "text": [
            "        Usuarios_Id               Fecha  Profesiones_Id   Año\n",
            "0             33480 2014-03-24 12:03:16               1  2014\n",
            "1             27997 2014-03-24 15:38:46               1  2014\n",
            "2             29824 2014-03-24 17:47:45               1  2014\n",
            "3             23457 2014-03-24 18:51:07               1  2014\n",
            "4             31318 2014-03-24 21:51:52               1  2014\n",
            "...             ...                 ...             ...   ...\n",
            "125735       112426 2025-06-14 18:21:47               1  2025\n",
            "125736       100714 2025-06-14 19:09:24               1  2025\n",
            "125737       100714 2025-06-14 19:37:17               1  2025\n",
            "125738        10540 2025-06-14 20:42:26               1  2025\n",
            "125739        36584 2025-06-14 22:18:01               1  2025\n",
            "\n",
            "[124615 rows x 4 columns]\n"
          ]
        }
      ]
    },
    {
      "cell_type": "code",
      "source": [
        "# inmediato: Mostrar total de valores únicos de la tabla Usuarios_Id desde los años 2014 al 2024\n",
        "\n",
        "# Filtrar datos de los años 2014 a 2024\n",
        "df_filtered = df[(df['Año'] >= 2014) & (df['Año'] <= 2024)]\n",
        "\n",
        "# Obtener el número total de 'Usuarios_Id' únicos en el DataFrame filtrado\n",
        "TotalUsuariosMat = df_filtered['Usuarios_Id']\n",
        "\n",
        "# Mostrar el recuento total\n",
        "print(f\"Total de valores únicos de la tabla Usuarios_Id desde los años 2014 al 2024: {TotalUsuariosMat}\")"
      ],
      "metadata": {
        "colab": {
          "base_uri": "https://localhost:8080/"
        },
        "id": "T0JDv7e_WPhF",
        "outputId": "cd32a69f-4870-40df-98d2-12c350972e85"
      },
      "execution_count": 12,
      "outputs": [
        {
          "output_type": "stream",
          "name": "stdout",
          "text": [
            "Total de valores únicos de la tabla Usuarios_Id desde los años 2014 al 2024: 0          33480\n",
            "1          27997\n",
            "2          29824\n",
            "3          23457\n",
            "4          31318\n",
            "           ...  \n",
            "119752    105227\n",
            "119753    110357\n",
            "119754     64073\n",
            "119755    110009\n",
            "119756     50742\n",
            "Name: Usuarios_Id, Length: 113083, dtype: int64\n"
          ]
        }
      ]
    },
    {
      "cell_type": "code",
      "source": [
        "# inmediato: Mostrar total de valores únicos de la tabla Usuarios_Id desde los años 2014 al 2024\n",
        "\n",
        "# Filtrar datos de los años 2014 a 2024\n",
        "df_filtered = df[(df['Año'] >= 2014) & (df['Año'] <= 2024)]\n",
        "\n",
        "# Obtener el número total de 'Usuarios_Id' únicos en el DataFrame filtrado\n",
        "TotalUsuariosUnicos = df_filtered['Usuarios_Id'].nunique()\n",
        "\n",
        "# Mostrar el recuento total\n",
        "print(f\"Total de valores únicos de la tabla Usuarios_Id desde los años 2014 al 2024: {TotalUsuariosUnicos}\")"
      ],
      "metadata": {
        "colab": {
          "base_uri": "https://localhost:8080/"
        },
        "id": "QaIhFe2El-c1",
        "outputId": "45ccbc20-64d4-4732-e779-c6a4abf5e8d9"
      },
      "execution_count": 13,
      "outputs": [
        {
          "output_type": "stream",
          "name": "stdout",
          "text": [
            "Total de valores únicos de la tabla Usuarios_Id desde los años 2014 al 2024: 25426\n"
          ]
        }
      ]
    },
    {
      "cell_type": "code",
      "source": [
        "# inmediato: Mostrar total de valores únicos de la tabla Usuarios_Id desde los años 2014 al 2024\n",
        "\n",
        "# Filtrar datos de los años 2014 a 2024\n",
        "df_filteredTot = df[(df['Año'] >= 2011) & (df['Año'] <= 2025)]\n",
        "\n",
        "# Obtener el número total de 'Usuarios_Id' únicos en el DataFrame filtrado\n",
        "TotalUsuariosUnicosTA = df_filteredTot['Usuarios_Id'].nunique()\n",
        "\n",
        "# Mostrar el recuento total\n",
        "print(f\"Total de valores únicos de la tabla Usuarios_Id desde los años 2011 al 2025: {TotalUsuariosUnicosTA}\")"
      ],
      "metadata": {
        "colab": {
          "base_uri": "https://localhost:8080/"
        },
        "id": "P2lrojPlwhnU",
        "outputId": "8a1b4c35-ed33-40b4-e373-9fc6845df14a"
      },
      "execution_count": 14,
      "outputs": [
        {
          "output_type": "stream",
          "name": "stdout",
          "text": [
            "Total de valores únicos de la tabla Usuarios_Id desde los años 2011 al 2025: 27098\n"
          ]
        }
      ]
    }
  ]
}